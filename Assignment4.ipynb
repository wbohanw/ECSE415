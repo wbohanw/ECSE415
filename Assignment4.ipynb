{
 "cells": [
  {
   "cell_type": "markdown",
   "metadata": {},
   "source": [
    "# ECSE 415 Assignment 1\n",
    "## Author1: Bohan Wang\n",
    "## Student ID1: 261023725\n",
    "## Author2: Peter Zhang\n",
    "## Student ID2: 26102xxxx\n",
    "## Comments:\n",
    "### + Library used in this assignment:\n",
    "#### `numpy version: 1.26.4`\n",
    "#### `scikit-image version: 0.23.2`\n",
    "#### `matplotlib version: 3.8.5`\n",
    "\n",
    "\n",
    "### + Run system setup for install the library\n",
    "### + Please find path for the images in the `Images path` section\n"
   ]
  },
  {
   "cell_type": "markdown",
   "metadata": {},
   "source": [
    "## Citation\n",
    "```\n",
    "@misc{ecse-415-a-4-24-f,\n",
    "    author = {Kevin Kong},\n",
    "    title = {ECSE415 Image Segmentation},\n",
    "    year = {2024},\n",
    "    howpublished = {\\url{https://kaggle.com/competitions/ecse-415-a-4-24-f}},\n",
    "    note = {Kaggle}\n",
    "}\n"
   ]
  },
  {
   "cell_type": "markdown",
   "metadata": {},
   "source": []
  },
  {
   "cell_type": "code",
   "execution_count": null,
   "metadata": {},
   "outputs": [],
   "source": []
  }
 ],
 "metadata": {
  "language_info": {
   "name": "python"
  }
 },
 "nbformat": 4,
 "nbformat_minor": 2
}
