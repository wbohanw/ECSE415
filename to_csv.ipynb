{
 "cells": [
  {
   "cell_type": "code",
   "execution_count": 9,
   "metadata": {},
   "outputs": [
    {
     "name": "stdout",
     "output_type": "stream",
     "text": [
      "RLE CSV saved to: /Users/bohan/Desktop/ECSE_415/ECSE415/output.csv\n"
     ]
    }
   ],
   "source": [
    "# For Submission\n",
    "import os\n",
    "import numpy as np\n",
    "import pandas as pd\n",
    "from PIL import Image\n",
    "import random\n",
    "\n",
    "def rle_encode(mask):\n",
    "    \"\"\"\n",
    "    Convert mask to RLE (Run Length Encoding).\n",
    "    \"\"\"\n",
    "    pixels = mask.flatten()\n",
    "    pixels = np.concatenate([[0], pixels, [0]])\n",
    "    runs = np.where(pixels[1:] != pixels[:-1])[0] + 1\n",
    "    runs[1::2] -= runs[::2]\n",
    "    return ' '.join(str(x) for x in runs)\n",
    "\n",
    "def trimap_to_rle_csv(folder_path, output_csv_path):\n",
    "    \"\"\"\n",
    "    Convert all trimap images in a folder to RLE-encoded CSV.\n",
    "    \n",
    "    Parameters:\n",
    "        folder_path (str): Path to the folder containing trimap images.\n",
    "        output_csv_path (str): Path to save the output CSV file.\n",
    "    \"\"\"\n",
    "    rle_data = []\n",
    "    \n",
    "    # Get a sorted list of files based on the numeric value in their names\n",
    "    files = [f for f in os.listdir(folder_path) if f.endswith('.png') or f.endswith('.jpg')]\n",
    "    files.sort(key=lambda x: int(os.path.splitext(x)[0]))  # Sort by numeric part of the filename\n",
    "\n",
    "    # Generate IDs from 1_1 to 2000_3\n",
    "    ids = [f\"{i}_{j}\" for i in range(1, 2001) for j in range(1, 4)]\n",
    "    \n",
    "    # Create a dictionary to track mask values\n",
    "    id_to_mask = {id_: '' for id_ in ids}  # Initialize all IDs with empty masks\n",
    "\n",
    "    # Iterate through all sorted files in the folder\n",
    "    for filename in files:\n",
    "        trimap_path = os.path.join(folder_path, filename)\n",
    "        trimap = Image.open(trimap_path).convert(\"L\")\n",
    "        trimap_np = np.array(trimap)\n",
    "\n",
    "        # RLE encode each unique class in the trimap\n",
    "        for label in np.unique(trimap_np):\n",
    "            mask = (trimap_np == label).astype(np.uint8)\n",
    "            rle = rle_encode(mask)\n",
    "            # Assign RLE to the appropriate ID if it exists\n",
    "            id_key = f\"{os.path.splitext(filename)[0]}_{label}\"\n",
    "            if id_key in id_to_mask:\n",
    "                id_to_mask[id_key] = rle\n",
    "    \n",
    "    # Prepare data for DataFrame, ensuring we have 6000 entries\n",
    "    for id_ in ids:\n",
    "        rle_data.append({'id': id_, 'mask': id_to_mask[id_]})\n",
    "\n",
    "    # Check if we have exactly 6000 rows\n",
    "    if len(rle_data) != 6000:\n",
    "        raise ValueError(f\"Expected 6000 rows, but got {len(rle_data)}\")\n",
    "\n",
    "    # Save the RLE data to a CSV file\n",
    "    rle_df = pd.DataFrame(rle_data)\n",
    "    rle_df = rle_df[['id', 'mask']]\n",
    "    rle_df.to_csv(output_csv_path, index=False)\n",
    "    print(f\"RLE CSV saved to: {output_csv_path}\")\n",
    "\n",
    "# Usage\n",
    "folder_path = '/Users/bohan/Desktop/ECSE_415/ECSE415/Oxford' # Replace with your trimap file path\n",
    "output_csv_path = '/Users/bohan/Desktop/ECSE_415/ECSE415/output.csv'  # Specify a full file path for the output CSV\n",
    "trimap_to_rle_csv(folder_path, output_csv_path)\n",
    "\n",
    "# path = '/Users/bohan/Desktop/ECSE 415/ECSE415/Oxford'\n"
   ]
  }
 ],
 "metadata": {
  "kernelspec": {
   "display_name": "ML",
   "language": "python",
   "name": "python3"
  },
  "language_info": {
   "codemirror_mode": {
    "name": "ipython",
    "version": 3
   },
   "file_extension": ".py",
   "mimetype": "text/x-python",
   "name": "python",
   "nbconvert_exporter": "python",
   "pygments_lexer": "ipython3",
   "version": "3.9.6"
  }
 },
 "nbformat": 4,
 "nbformat_minor": 2
}
